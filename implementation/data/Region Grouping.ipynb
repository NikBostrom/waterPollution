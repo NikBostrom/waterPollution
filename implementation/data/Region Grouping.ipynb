{
 "cells": [
  {
   "cell_type": "code",
   "execution_count": 2,
   "metadata": {},
   "outputs": [],
   "source": [
    "import pandas as pd"
   ]
  },
  {
   "cell_type": "code",
   "execution_count": 6,
   "metadata": {},
   "outputs": [
    {
     "data": {
      "text/plain": [
       "0     {'type': 'Feature', 'properties': {'GEO_ID': '...\n",
       "1     {'type': 'Feature', 'properties': {'GEO_ID': '...\n",
       "2     {'type': 'Feature', 'properties': {'GEO_ID': '...\n",
       "3     {'type': 'Feature', 'properties': {'GEO_ID': '...\n",
       "4     {'type': 'Feature', 'properties': {'GEO_ID': '...\n",
       "5     {'type': 'Feature', 'properties': {'GEO_ID': '...\n",
       "6     {'type': 'Feature', 'properties': {'GEO_ID': '...\n",
       "7     {'type': 'Feature', 'properties': {'GEO_ID': '...\n",
       "8     {'type': 'Feature', 'properties': {'GEO_ID': '...\n",
       "9     {'type': 'Feature', 'properties': {'GEO_ID': '...\n",
       "10    {'type': 'Feature', 'properties': {'GEO_ID': '...\n",
       "11    {'type': 'Feature', 'properties': {'GEO_ID': '...\n",
       "12    {'type': 'Feature', 'properties': {'GEO_ID': '...\n",
       "13    {'type': 'Feature', 'properties': {'GEO_ID': '...\n",
       "14    {'type': 'Feature', 'properties': {'GEO_ID': '...\n",
       "15    {'type': 'Feature', 'properties': {'GEO_ID': '...\n",
       "16    {'type': 'Feature', 'properties': {'GEO_ID': '...\n",
       "17    {'type': 'Feature', 'properties': {'GEO_ID': '...\n",
       "18    {'type': 'Feature', 'properties': {'GEO_ID': '...\n",
       "19    {'type': 'Feature', 'properties': {'GEO_ID': '...\n",
       "20    {'type': 'Feature', 'properties': {'GEO_ID': '...\n",
       "21    {'type': 'Feature', 'properties': {'GEO_ID': '...\n",
       "22    {'type': 'Feature', 'properties': {'GEO_ID': '...\n",
       "23    {'type': 'Feature', 'properties': {'GEO_ID': '...\n",
       "24    {'type': 'Feature', 'properties': {'GEO_ID': '...\n",
       "25    {'type': 'Feature', 'properties': {'GEO_ID': '...\n",
       "26    {'type': 'Feature', 'properties': {'GEO_ID': '...\n",
       "27    {'type': 'Feature', 'properties': {'GEO_ID': '...\n",
       "28    {'type': 'Feature', 'properties': {'GEO_ID': '...\n",
       "29    {'type': 'Feature', 'properties': {'GEO_ID': '...\n",
       "30    {'type': 'Feature', 'properties': {'GEO_ID': '...\n",
       "31    {'type': 'Feature', 'properties': {'GEO_ID': '...\n",
       "32    {'type': 'Feature', 'properties': {'GEO_ID': '...\n",
       "33    {'type': 'Feature', 'properties': {'GEO_ID': '...\n",
       "34    {'type': 'Feature', 'properties': {'GEO_ID': '...\n",
       "35    {'type': 'Feature', 'properties': {'GEO_ID': '...\n",
       "36    {'type': 'Feature', 'properties': {'GEO_ID': '...\n",
       "37    {'type': 'Feature', 'properties': {'GEO_ID': '...\n",
       "38    {'type': 'Feature', 'properties': {'GEO_ID': '...\n",
       "39    {'type': 'Feature', 'properties': {'GEO_ID': '...\n",
       "40    {'type': 'Feature', 'properties': {'GEO_ID': '...\n",
       "41    {'type': 'Feature', 'properties': {'GEO_ID': '...\n",
       "42    {'type': 'Feature', 'properties': {'GEO_ID': '...\n",
       "43    {'type': 'Feature', 'properties': {'GEO_ID': '...\n",
       "44    {'type': 'Feature', 'properties': {'GEO_ID': '...\n",
       "45    {'type': 'Feature', 'properties': {'GEO_ID': '...\n",
       "46    {'type': 'Feature', 'properties': {'GEO_ID': '...\n",
       "47    {'type': 'Feature', 'properties': {'GEO_ID': '...\n",
       "48    {'type': 'Feature', 'properties': {'GEO_ID': '...\n",
       "49    {'type': 'Feature', 'properties': {'GEO_ID': '...\n",
       "50    {'type': 'Feature', 'properties': {'GEO_ID': '...\n",
       "51    {'type': 'Feature', 'properties': {'GEO_ID': '...\n",
       "Name: features, dtype: object"
      ]
     },
     "execution_count": 6,
     "metadata": {},
     "output_type": "execute_result"
    }
   ],
   "source": [
    "states = pd.read_json('usStatesOutline-5m.json')\n",
    "states.features"
   ]
  },
  {
   "cell_type": "code",
   "execution_count": 9,
   "metadata": {},
   "outputs": [
    {
     "ename": "AttributeError",
     "evalue": "'dict' object has no attribute 'properties'",
     "output_type": "error",
     "traceback": [
      "\u001b[1;31m---------------------------------------------------------------------------\u001b[0m",
      "\u001b[1;31mAttributeError\u001b[0m                            Traceback (most recent call last)",
      "\u001b[1;32m<ipython-input-9-dc89c02ca9ec>\u001b[0m in \u001b[0;36m<module>\u001b[1;34m()\u001b[0m\n\u001b[0;32m      1\u001b[0m \u001b[1;32mfor\u001b[0m \u001b[0mi\u001b[0m \u001b[1;32min\u001b[0m \u001b[0mstates\u001b[0m\u001b[1;33m.\u001b[0m\u001b[0mfeatures\u001b[0m\u001b[1;33m:\u001b[0m\u001b[1;33m\u001b[0m\u001b[0m\n\u001b[1;32m----> 2\u001b[1;33m     \u001b[0mprint\u001b[0m\u001b[1;33m(\u001b[0m\u001b[0mi\u001b[0m\u001b[1;33m.\u001b[0m\u001b[0mproperties\u001b[0m\u001b[1;33m)\u001b[0m\u001b[1;33m\u001b[0m\u001b[0m\n\u001b[0m",
      "\u001b[1;31mAttributeError\u001b[0m: 'dict' object has no attribute 'properties'"
     ]
    }
   ],
   "source": [
    "for i in states.features:\n",
    "    print(i.properties)"
   ]
  },
  {
   "cell_type": "code",
   "execution_count": null,
   "metadata": {
    "collapsed": true
   },
   "outputs": [],
   "source": []
  }
 ],
 "metadata": {
  "kernelspec": {
   "display_name": "Python 3",
   "language": "python",
   "name": "python3"
  },
  "language_info": {
   "codemirror_mode": {
    "name": "ipython",
    "version": 3
   },
   "file_extension": ".py",
   "mimetype": "text/x-python",
   "name": "python",
   "nbconvert_exporter": "python",
   "pygments_lexer": "ipython3",
   "version": "3.6.1"
  }
 },
 "nbformat": 4,
 "nbformat_minor": 2
}
